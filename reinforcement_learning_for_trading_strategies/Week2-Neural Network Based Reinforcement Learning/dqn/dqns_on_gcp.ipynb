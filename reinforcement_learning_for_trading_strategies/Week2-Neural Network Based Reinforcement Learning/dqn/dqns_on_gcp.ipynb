{
 "cells": [
  {
   "cell_type": "markdown",
   "metadata": {},
   "source": [
    "# DQNs on GCP\n",
    "\n",
    "Reinforcement Learning (RL) Agents can be quite fickle. This is because the environment for an Agent is different than that of Supervised and Unsupervised algorithms.\n",
    "\n",
    "| Supervised / Unsupervised | Reinforcement Learning |\n",
    "| ----------- | ----------- |\n",
    "| Data is previously gathered | Data needs to be simulated |\n",
    "| Big Data: Many examples covering many siutations | Sparse Data: Agent trades off between exploring and exploiting | \n",
    "| The environment is assumed static | The environment may change in response to the agent |\n",
    "\n",
    "Because of this, hyperparameter tuning is even more crucial in RL as it not only impacts the training of the agent's neural network, but it also impacts how the data is gathered through simulation.\n",
    "\n",
    "## Setup\n",
    "\n",
    "Hypertuning takes some time, and in this case, it can take anywhere between **10 - 30 minutes**. If this hasn't been done already, run the cell below to kick off the training job now. We'll step through what the code is doing while our agents learn."
   ]
  },
  {
   "cell_type": "code",
   "execution_count": 1,
   "metadata": {},
   "outputs": [],
   "source": [
    "# %%bash\n",
    "# BUCKET=qwiklabs-gcp-04-5abf3ea36c12 # Change to your bucket name\n",
    "# JOB_NAME=dqn_on_gcp_$(date -u +%y%m%d_%H%M%S)\n",
    "# REGION='us-central1' # Change to your bucket region\n",
    "# IMAGE_URI=gcr.io/qwiklabs-resources/rl-qwikstart/dqn_on_gcp@sha256:326427527d07f30a0486ee05377d120cac1b9be8850b05f138fc9b53ac1dd2dc\n",
    "\n",
    "# gcloud ai-platform jobs submit training $JOB_NAME \\\n",
    "#     --staging-bucket=gs://$BUCKET \\\n",
    "#     --region=$REGION \\\n",
    "#     --master-image-uri=$IMAGE_URI \\\n",
    "#     --scale-tier=BASIC_GPU \\\n",
    "#     --job-dir=gs://$BUCKET/$JOB_NAME \\\n",
    "#     --config=hyperparam.yaml"
   ]
  },
  {
   "cell_type": "markdown",
   "metadata": {},
   "source": [
    "The above command sends a [hyperparameter tuning job](https://cloud.google.com/ml-engine/docs/hyperparameter-tuning-overview) to the [Google Cloud AI Platform](https://cloud.google.com/sdk/gcloud/reference/ai-platform/jobs/submit/training). It's a service that sets up scaling distributed training so data scientists and machine learning engineers do not have to worry about technical infrastructure. Usually, it automatically selects the [container environment](https://cloud.google.com/ml-engine/docs/runtime-version-list), but we're going to take advantage of a feature to specify our own environment with [Docker](https://www.docker.com/resources/what-container). Not only will this allow us to install our game environment to be deployed to the cloud, but it will also significantly speed up hyperparameter tuning time as each worker can skip the library installation steps.\n",
    "\n",
    "The <a href=\"Dockerfile\">Dockerfile</a> in this directory shows the steps taken to build this environment. First, we copy from a [Google Deep Learning Container](https://cloud.google.com/ai-platform/deep-learning-containers/docs/choosing-container) which already has Google Cloud Libraries installed. Then, we install our other desired modules and libraries. `ffmpeg`, `xvfb`, and `python-opengl` are needed in order to get video output from the server. Machines on the cloud don't typically have a display (why would they need one?), so we'll make a virtual display of our own.\n",
    "\n",
    "After we copy our code, we tell the container to be configured as an executable so we can pass our hyperparameter tuning flags to it with the [ENTRYPOINT](https://stackoverflow.com/questions/21553353/what-is-the-difference-between-cmd-and-entrypoint-in-a-dockerfile) command. In order to set up our virtual display, we can use the [xvfb-run](http://manpages.ubuntu.com/manpages/trusty/man1/xvfb-run.1.html) command. Unfortunately, Docker strips quotes from specified commands in ENTRYPOINT, so we'll make a super simple shell script, <a href=\"train_model.sh\">train_model.sh</a>, to specify our virtual display parameters. The `\"@\"` parameter is used to pass the flags called against the container to our python module, `trainer.trainer`.\n",
    "\n",
    "## CartPole-v0\n",
    "\n",
    "So what is the game we'll be solving for? We'll be playing with [AI Gym's CartPole Environment](https://gym.openai.com/envs/CartPole-v1/). As MNIST is the \"Hello World\" of image classification, CartPole is the \"Hello World\" of Deep Q Networks. Let's install [OpenAI Gym](https://gym.openai.com/) and play with the game ourselves!"
   ]
  },
  {
   "cell_type": "code",
   "execution_count": 2,
   "metadata": {},
   "outputs": [],
   "source": [
    "# !python3 -m pip freeze | grep gym || python3 -m pip install --user gym==0.26.2\n",
    "# !python3 -m pip freeze | grep 'tensorflow==2.5\\|tensorflow-gpu==2.1' || \\\n",
    "# !python3 -m pip install -U tensorflow==2.3.0\n",
    "# !python3 -m pip install pygame"
   ]
  },
  {
   "cell_type": "markdown",
   "metadata": {},
   "source": [
    "##### Note: Restart the kernel if the above libraries needed to be installed. Please ignore incompatibility errors.\n",
    "\n",
    "The `gym` library hosts a number of different gaming environments that our agents (and us humans) can play around in. To make an environment, we simply need to pass it what game we'd like to play with the `make` method.\n",
    "\n",
    "This will create an environment object with a number of useful methods and properties.\n",
    "* The `observation_space` parameter is the structure of observations about the environment.\n",
    "  - Each \"state\" or snapshot or our environment will follow this structure\n",
    "* The `action_space` parameter is the possible actions the agent can take\n",
    "\n",
    "So for example, with CartPole, there are 4 observation dimensions which represent `[Cart Position, Cart Velocity, Pole Angle, Pole Velocity At Tip]`. For the actions, there are 2 possible actions to take: 0 pushes the cart to the left, and 1 pushes the cart to the right. More detail is described in the game's code [here](https://github.com/openai/gym/blob/master/gym/envs/classic_control/cartpole.py)."
   ]
  },
  {
   "cell_type": "code",
   "execution_count": 3,
   "metadata": {},
   "outputs": [
    {
     "name": "stdout",
     "output_type": "stream",
     "text": [
      "The observation space is Box([-4.8000002e+00 -3.4028235e+38 -4.1887903e-01 -3.4028235e+38], [4.8000002e+00 3.4028235e+38 4.1887903e-01 3.4028235e+38], (4,), float32)\n",
      "The observation dimensions are (4,)\n",
      "The action space is Discrete(2)\n",
      "The number of possible actions is 2\n"
     ]
    }
   ],
   "source": [
    "from collections import deque\n",
    "import random\n",
    "\n",
    "import gym\n",
    "import numpy as np\n",
    "import tensorflow as tf\n",
    "from tensorflow.keras import layers, models\n",
    "\n",
    "\n",
    "env = gym.make('CartPole-v1')\n",
    "print(\"The observation space is\", env.observation_space)\n",
    "print(\"The observation dimensions are\", env.observation_space.shape)\n",
    "print(\"The action space is\", env.action_space)\n",
    "print(\"The number of possible actions is\", env.action_space.n)"
   ]
  },
  {
   "cell_type": "markdown",
   "metadata": {},
   "source": [
    "* The `reset` method will restart the environment and return a starting state.\n",
    "* The `step` method takes an action, applies it to the environment and returns a new state. Each step returns a new state, the transition reward, whether the game is over or not, and game specific information. For CartPole, there is no extra info, so it returns a blank dictionary."
   ]
  },
  {
   "cell_type": "code",
   "execution_count": 4,
   "metadata": {},
   "outputs": [
    {
     "name": "stdout",
     "output_type": "stream",
     "text": [
      "Step 0 - Cart X: -0.01547605637460947, Cart V: 0.02264716662466526, Pole A: 0.04710168018937111, Pole V:-0.00553496740758419, Reward:None\n"
     ]
    }
   ],
   "source": [
    "def print_state(state, step, reward=None):\n",
    "    print(f'Step {step} - Cart X: {state[0]}, Cart V: {state[1]}, Pole A: {state[2]}, Pole V:{state[3]}, Reward:{reward}')\n",
    "\n",
    "state = env.reset()\n",
    "step = 0\n",
    "print_state(state[0], step)"
   ]
  },
  {
   "cell_type": "code",
   "execution_count": 5,
   "metadata": {},
   "outputs": [
    {
     "name": "stdout",
     "output_type": "stream",
     "text": [
      "Step 1 - Cart X: -0.01502311322838068, Cart V: -0.173117533326149, Pole A: 0.046990979462862015, Pole V:0.3016291856765747, Reward:1.0\n",
      "The game can continue.\n",
      "Info: False\n"
     ]
    },
    {
     "name": "stderr",
     "output_type": "stream",
     "text": [
      "/Users/main/anaconda3/envs/ml4t/lib/python3.9/site-packages/gym/utils/passive_env_checker.py:233: DeprecationWarning: `np.bool8` is a deprecated alias for `np.bool_`.  (Deprecated NumPy 1.24)\n",
      "  if not isinstance(terminated, (bool, np.bool8)):\n"
     ]
    }
   ],
   "source": [
    "action = 0\n",
    "state_prime, reward, done, info, _ = env.step(action)\n",
    "step += 1\n",
    "print_state(state_prime, step, reward)\n",
    "print(\"The game is over.\" if done else \"The game can continue.\")\n",
    "print(\"Info:\", info)"
   ]
  },
  {
   "cell_type": "markdown",
   "metadata": {},
   "source": [
    "Run the cell below repeatedly until the game is over, changing the action to push the cart left (0) or right (1). The game is considered \"won\" when the pole can stay up for an average of steps 195 over 100 games. How far can you get? An agent acting randomly can only survive about 10 steps."
   ]
  },
  {
   "cell_type": "code",
   "execution_count": 6,
   "metadata": {},
   "outputs": [
    {
     "name": "stdout",
     "output_type": "stream",
     "text": [
      "Step 2 - Cart X: -0.01848546415567398, Cart V: 0.021304266527295113, Pole A: 0.0530235655605793, Pole V:0.024128668010234833, Reward:1.0\n",
      "The game can continue.\n"
     ]
    }
   ],
   "source": [
    "action = 1  # Change me: 0 Left, 1 Right\n",
    "state_prime, reward, done, info, _ = env.step(action)\n",
    "step += 1\n",
    "\n",
    "print_state(state_prime, step, reward)\n",
    "print(\"The game is over.\" if done else \"The game can continue.\")"
   ]
  },
  {
   "cell_type": "markdown",
   "metadata": {},
   "source": [
    "We can make our own policy and create a loop to play through an episode (one full simulation) of the game. Below, actions are generated to alternate between pushing the cart left and right. The code is very similar to how our agents will be interacting with the game environment."
   ]
  },
  {
   "cell_type": "code",
   "execution_count": 7,
   "metadata": {},
   "outputs": [
    {
     "name": "stdout",
     "output_type": "stream",
     "text": [
      "Step 1 - Cart X: 0.04029516875743866, Cart V: -0.2148413062095642, Pole A: -0.01711057499051094, Pole V:0.29243984818458557, Reward:1.0\n",
      "Step 2 - Cart X: 0.03599834442138672, Cart V: -0.019479630514979362, Pole A: -0.011261777952313423, Pole V:-0.005590044427663088, Reward:1.0\n",
      "Step 3 - Cart X: 0.03560874983668327, Cart V: -0.2144382745027542, Pole A: -0.011373579502105713, Pole V:0.2835184931755066, Reward:1.0\n",
      "Step 4 - Cart X: 0.031319983303546906, Cart V: -0.019155966117978096, Pole A: -0.005703209433704615, Pole V:-0.012729793787002563, Reward:1.0\n",
      "Step 5 - Cart X: 0.030936865136027336, Cart V: -0.21419566869735718, Pole A: -0.005957805085927248, Pole V:0.27814826369285583, Reward:1.0\n",
      "Step 6 - Cart X: 0.026652952656149864, Cart V: -0.01898922584950924, Pole A: -0.00039484002627432346, Pole V:-0.016407782211899757, Reward:1.0\n",
      "Step 7 - Cart X: 0.02627316676080227, Cart V: -0.2141055166721344, Pole A: -0.0007229956681840122, Pole V:0.27615055441856384, Reward:1.0\n",
      "Step 8 - Cart X: 0.021991057321429253, Cart V: -0.018973253667354584, Pole A: 0.00480001512914896, Pole V:-0.01676033064723015, Reward:1.0\n",
      "Step 9 - Cart X: 0.021611591801047325, Cart V: -0.21416372060775757, Pole A: 0.004464808385819197, Pole V:0.2774331867694855, Reward:1.0\n",
      "Step 10 - Cart X: 0.01732831820845604, Cart V: -0.019105741754174232, Pole A: 0.01001347228884697, Pole V:-0.0138382064178586, Reward:1.0\n",
      "Step 11 - Cart X: 0.016946204006671906, Cart V: -0.21436986327171326, Pole A: 0.009736708365380764, Pole V:0.28198719024658203, Reward:1.0\n",
      "Step 12 - Cart X: 0.012658805586397648, Cart V: -0.01938813365995884, Pole A: 0.01537645235657692, Pole V:-0.007608981803059578, Reward:1.0\n",
      "Step 13 - Cart X: 0.012271042913198471, Cart V: -0.21472719311714172, Pole A: 0.015224272385239601, Pole V:0.2898854613304138, Reward:1.0\n",
      "Step 14 - Cart X: 0.007976499386131763, Cart V: -0.01982560008764267, Pole A: 0.021021980792284012, Pole V:0.0020427233539521694, Reward:1.0\n",
      "Step 15 - Cart X: 0.0075799874030053616, Cart V: -0.21524262428283691, Pole A: 0.021062836050987244, Pole V:0.30128350853919983, Reward:1.0\n",
      "Step 16 - Cart X: 0.0032751348335295916, Cart V: -0.020427120849490166, Pole A: 0.027088506147265434, Pole V:0.015317077748477459, Reward:1.0\n",
      "Step 17 - Cart X: 0.002866592491045594, Cart V: -0.2159268707036972, Pole A: 0.027394847944378853, Pole V:0.31642216444015503, Reward:1.0\n",
      "Step 18 - Cart X: -0.0014519449323415756, Cart V: -0.021205618977546692, Pole A: 0.033723291009664536, Pole V:0.03250296041369438, Reward:1.0\n",
      "Step 19 - Cart X: -0.0018760572420433164, Cart V: -0.21679453551769257, Pole A: 0.03437335044145584, Pole V:0.3356322944164276, Reward:1.0\n",
      "Step 20 - Cart X: -0.006211948115378618, Cart V: -0.022178206592798233, Pole A: 0.041085995733737946, Pole V:0.05398401618003845, Reward:1.0\n",
      "Step 21 - Cart X: -0.006655512377619743, Cart V: -0.21786445379257202, Pole A: 0.04216567799448967, Pole V:0.359341561794281, Reward:1.0\n",
      "Step 22 - Cart X: -0.011012800969183445, Cart V: -0.02336648292839527, Pole A: 0.049352508038282394, Pole V:0.0802469551563263, Reward:1.0\n",
      "Step 23 - Cart X: -0.011480131186544895, Cart V: -0.21915990114212036, Pole A: 0.05095744505524635, Pole V:0.38808321952819824, Reward:1.0\n",
      "Step 24 - Cart X: -0.0158633291721344, Cart V: -0.024796897545456886, Pole A: 0.05871910974383354, Pole V:0.11189217865467072, Reward:1.0\n",
      "Step 25 - Cart X: -0.016359267756342888, Cart V: -0.2207089513540268, Pole A: 0.06095695495605469, Pole V:0.42250728607177734, Reward:1.0\n",
      "Step 26 - Cart X: -0.020773446187376976, Cart V: -0.026501169428229332, Pole A: 0.06940709799528122, Pole V:0.14964690804481506, Reward:1.0\n",
      "Step 27 - Cart X: -0.021303469315171242, Cart V: -0.2225448191165924, Pole A: 0.0724000409245491, Pole V:0.4633936583995819, Reward:1.0\n",
      "Step 28 - Cart X: -0.02575436607003212, Cart V: -0.028516700491309166, Pole A: 0.08166791498661041, Pole V:0.1943809688091278, Reward:1.0\n",
      "Step 29 - Cart X: -0.026324698701500893, Cart V: -0.22470614314079285, Pole A: 0.0855555310845375, Pole V:0.5116679668426514, Reward:1.0\n",
      "Step 30 - Cart X: -0.030818821862339973, Cart V: -0.03088693879544735, Pole A: 0.09578888863325119, Pole V:0.24712520837783813, Reward:1.0\n",
      "Step 31 - Cart X: -0.03143656253814697, Cart V: -0.22723713517189026, Pole A: 0.10073139518499374, Pole V:0.5684192180633545, Reward:1.0\n",
      "Step 32 - Cart X: -0.035981304943561554, Cart V: -0.033661600202322006, Pole A: 0.1120997816324234, Pole V:0.30909276008605957, Reward:1.0\n",
      "Step 33 - Cart X: -0.03665453568100929, Cart V: -0.23018741607666016, Pole A: 0.11828163266181946, Pole V:0.6349195837974548, Reward:1.0\n",
      "Step 34 - Cart X: -0.04125828295946121, Cart V: -0.036896560341119766, Pole A: 0.13098002970218658, Pole V:0.38170287013053894, Reward:1.0\n",
      "Step 35 - Cart X: -0.04199621453881264, Cart V: -0.23361144959926605, Pole A: 0.13861408829689026, Pole V:0.7126458287239075, Reward:1.0\n",
      "Step 36 - Cart X: -0.04666844382882118, Cart V: -0.04065315052866936, Pole A: 0.15286700427532196, Pole V:0.4666067063808441, Reward:1.0\n",
      "Step 37 - Cart X: -0.04748150706291199, Cart V: -0.2375670224428177, Pole A: 0.16219913959503174, Pole V:0.8033011555671692, Reward:1.0\n",
      "Step 38 - Cart X: -0.05223284661769867, Cart V: -0.04499645158648491, Pole A: 0.17826515436172485, Pole V:0.5657143592834473, Reward:1.0\n",
      "Step 39 - Cart X: -0.05313277617096901, Cart V: -0.24211229383945465, Pole A: 0.18957944214344025, Pole V:0.9088353514671326, Reward:1.0\n",
      "Step 40 - Cart X: -0.05797502398490906, Cart V: -0.04999186098575592, Pole A: 0.2077561467885971, Pole V:0.6812209486961365, Reward:1.0\n",
      "Step 41 - Cart X: -0.05897485837340355, Cart V: -0.24730072915554047, Pole A: 0.2213805764913559, Pole V:1.0314618349075317, Reward:1.0\n",
      "Game over! Score = 41.0\n"
     ]
    }
   ],
   "source": [
    "# [0, 1, 0, 1, 0, 1, ...]\n",
    "actions = [x % 2 for x in range(200)]\n",
    "state = env.reset()[0]\n",
    "step = 0\n",
    "episode_reward = 0\n",
    "done = False\n",
    "\n",
    "while not done and step < len(actions):\n",
    "    action = actions[step]  # In the future, our agents will define this.\n",
    "    state_prime, reward, done, info,_ = env.step(action)\n",
    "    episode_reward += reward\n",
    "    step += 1\n",
    "    state = state_prime\n",
    "    print_state(state, step, reward)\n",
    "\n",
    "end_statement = \"Game over!\" if done else \"Ran out of actions!\"\n",
    "print(end_statement, \"Score =\", episode_reward)"
   ]
  },
  {
   "cell_type": "markdown",
   "metadata": {},
   "source": [
    "It's a challenge to get to 200! We could repeatedly experiment to find the best heuristics to beat the game, or we could leave all that work to the robot. Let's create an intelligence to figure this out for us.\n",
    "\n",
    "## The Theory Behind Deep Q Networks\n",
    "\n",
    "The fundamental principle behind RL is we have two entities: the **agent** and the **environment**. The agent takes state and reward information about the envionment and chooses an action. The environment takes that action and will change to be in a new state.\n",
    "\n",
    "<img src=\"images/agent_and_environment.jpg\" width=\"476\" height=\"260\">\n",
    "\n",
    "RL assumes that the environment follows a [Markov Decision Process (MDP)](https://en.wikipedia.org/wiki/Markov_decision_process). That means the state is dependent partially on the agent's actions, and partially on chance. MDPs can be represented by a graph, with states and actions as nodes, and rewards and path probabilities on the edges.\n",
    "\n",
    "<img src=\"images/mdp.jpg\" width=\"471\" height=\"243\">\n",
    "\n",
    "So what would be the best path through the graph above? Or perhaps a more difficult question, what would be our expected winnings if we played optimally? The probability introduced in this problem has inspired multiple strategies over the years, but all of them boil down to the idea of discounted future rewards.\n",
    "\n",
    "Would you rather have `$100` now or `$105` a year from now? With inflation, there's no definitive answer, but each of us has a threshold that we use to determine the value of something now versus the value of something later. In psychology, this is called [Delayed Gratification](https://en.wikipedia.org/wiki/Delayed_gratification). Richard E. Bellman expressed this theory in an equation widely used in RL called the [Bellman Equation](https://en.wikipedia.org/wiki/Bellman_equation). Let's introduce some vocab to better define it.\n",
    "\n",
    "| Symbol | Name | Definition | Example |\n",
    "| - | - | - | - |\n",
    "| | agent | An entity that can act and transition between states | Us when we play CartPole |\n",
    "| s | state | The environmental parameters describing where the agent is | The position of the cart and angle of the pole |\n",
    "| a | action | What the agent can do within a state | Pushing the cart left or right |\n",
    "| t | time / step | One transition between states | One push of the cart |\n",
    "|| episode | One full simulation run | From the start of the game to game over |\n",
    "| v, V(s) | value | How much a state is worth | V(last state dropping the pole) = 0\n",
    "| r, R(s, a) | reward | Value gained or lost transitioning between states through an action | R(keeping the pole up) = 1 |\n",
    "| γ | gamma | How much to value a current state based on a future state | Coming up soon |\n",
    "| 𝜋, 𝜋(s) | policy |The recommended action to the agent based on the current state | π(in trouble) = honesty |\n",
    "\n",
    "Bellman realized this: The value of our current state should the discounted value of the next state the agent will be in plus any rewards picked up along the way, given the agent takes the best action to maximize this.\n",
    "\n",
    "Using all the symbols from above, we get:\n",
    "\n",
    "<img src=\"images/bellman_equation.jpg\" width=\"260\" height=\"50\">\n",
    "\n",
    "However, this is assuming we know all the states, their corresponding actions, and their rewards. If we don't know this in advance, we can explore and simulate this equation with what is called the [Q equation](https://en.wikipedia.org/wiki/Q-learning):\n",
    "\n",
    "<img style=\"background-color:white;\" src=\"https://wikimedia.org/api/rest_v1/media/math/render/svg/47fa1e5cf8cf75996a777c11c7b9445dc96d4637\">\n",
    "\n",
    "Here, the value function is replaced with the Q value, which is a function of a state and action. The learning rate is how much we want to change our old Q value with new information found during simulation. Visually, this results in a Q-table, where rows are the states, actions are the columns, and each cell is the value found through simulation.\n",
    "\n",
    "|| Meal | Snack | Wait |\n",
    "|-|-|-|-|\n",
    "| Hangry | 1 | .5 | -1 |\n",
    "| Hungry | .5 | 1 | 0 |\n",
    "| Full | -1 | -.5 | 1.5 |\n",
    "\n",
    "So this is cool and all, but how exactly does this fit in with CartPole? Here, MDPs are discrete states. CartPole has multidimensional states on a continuous scale. This is where neural networks save the day! Rather than categorize each state, we can feed state properties into our network. By having the same number of output nodes as possible actions, our network can be used to predict the value of the next state given the current state and action.\n",
    "\n",
    "## Building the Agent\n",
    "\n",
    "These networks can be configured with the same architectures and tools as other problems, such as CNNs. However, the one gotcha is that uses a specialized loss function. We'll instead be using the derivative of the Bellman Equation. Let's go ahead and define our model function as it is in trainer/model.py"
   ]
  },
  {
   "cell_type": "code",
   "execution_count": 8,
   "metadata": {},
   "outputs": [],
   "source": [
    "def deep_q_network(\n",
    "        state_shape, action_size, learning_rate, hidden_neurons):\n",
    "    \"\"\"Creates a Deep Q Network to emulate Q-learning.\n",
    "\n",
    "    Creates a two hidden-layer Deep Q Network. Similar to a typical nueral\n",
    "    network, the loss function is altered to reduce the difference between\n",
    "    predicted Q-values and Target Q-values.\n",
    "\n",
    "    Args:\n",
    "        space_shape: a tuple of ints representing the observation space.\n",
    "        action_size (int): the number of possible actions.\n",
    "        learning_rate (float): the nueral network's learning rate.\n",
    "        hidden_neurons (int): the number of neurons to use per hidden\n",
    "            layer.\n",
    "    \"\"\"\n",
    "    state_input = layers.Input(state_shape, name='frames')\n",
    "    actions_input = layers.Input((action_size,), name='mask')\n",
    "\n",
    "    hidden_1 = layers.Dense(hidden_neurons, activation='relu')(state_input)\n",
    "    hidden_2 = layers.Dense(hidden_neurons, activation='relu')(hidden_1)\n",
    "    q_values = layers.Dense(action_size)(hidden_2)\n",
    "    masked_q_values = layers.Multiply()([q_values, actions_input])\n",
    "\n",
    "    model = models.Model(\n",
    "        inputs=[state_input, actions_input], outputs=masked_q_values)\n",
    "    optimizer = tf.keras.optimizers.RMSprop(learning_rate=learning_rate)\n",
    "    model.compile(loss='mse', optimizer=optimizer)\n",
    "    return model"
   ]
  },
  {
   "cell_type": "markdown",
   "metadata": {},
   "source": [
    "Notice any other atypical aspects of this network?\n",
    "\n",
    "Here, we take in both state and actions as inputs to our network. The states are fed in as normal, but the actions are used to \"mask\" the output. This is actually used for faster training, as we'd only want to update the nodes correspnding to the action that we simulated.\n",
    "\n",
    "The Bellman Equation actually isn't in the network. That's because this is only the \"brain\" of our agent. As an intelligence, it has much more! Before we get to how exactly the agent learns, let's looks at the other aspects of its body: \"Memory\" and \"Exploration\".\n",
    "\n",
    "Just like other neural network algorithms, we need data to train on. However, this data is the result of our simulations, not something previously stored in a table. Thus, we're going to give our agent a memory where we can store state - action - new state transitions to learn on.\n",
    "\n",
    "Each time the agent takes a step in gym, we'll save `(state, action, reward, state_prime, done)` to our buffer, which is defined like so."
   ]
  },
  {
   "cell_type": "code",
   "execution_count": 9,
   "metadata": {},
   "outputs": [],
   "source": [
    "class Memory():\n",
    "    \"\"\"Sets up a memory replay buffer for a Deep Q Network.\n",
    "\n",
    "    A simple memory buffer for a DQN. This one randomly selects state\n",
    "    transitions with uniform probability, but research has gone into\n",
    "    other methods. For instance, a weight could be given to each memory\n",
    "    depending on how big of a difference there is between predicted Q values\n",
    "    and target Q values.\n",
    "\n",
    "    Args:\n",
    "        memory_size (int): How many elements to hold in the memory buffer.\n",
    "        batch_size (int): The number of elements to include in a replay batch.\n",
    "        gamma (float): The \"discount rate\" used to assess Q values.\n",
    "    \"\"\"\n",
    "    def __init__(self, memory_size, batch_size, gamma):\n",
    "        self.buffer = deque(maxlen=memory_size)\n",
    "        self.batch_size = batch_size\n",
    "        self.gamma = gamma\n",
    "\n",
    "    def add(self, experience):\n",
    "        \"\"\"Adds an experience into the memory buffer.\n",
    "\n",
    "        Args:\n",
    "            experience: a (state, action, reward, state_prime, done) tuple.\n",
    "        \"\"\"\n",
    "        self.buffer.append(experience)\n",
    "\n",
    "    def sample(self):\n",
    "        \"\"\"Uniformally selects from the replay memory buffer.\n",
    "\n",
    "        Uniformally and randomly selects experiences to train the nueral\n",
    "        network on. Transposes the experiences to allow batch math on\n",
    "        the experience components.\n",
    "\n",
    "        Returns:\n",
    "            (list): A list of lists with structure [\n",
    "                [states], [actions], [rewards], [state_primes], [dones]\n",
    "            ]\n",
    "        \"\"\"\n",
    "        buffer_size = len(self.buffer)\n",
    "        index = np.random.choice(buffer_size, size=self.batch_size, replace=False)\n",
    "        \n",
    "        # # Columns have different data types, so numpy array would be awkward.\n",
    "        states_mb = np.array([self.buffer[i][0] for i in index], dtype=np.float32)\n",
    "        actions_mb = np.array([self.buffer[i][1] for i in index], dtype=np.int8)\n",
    "        rewards_mb = np.array([self.buffer[i][2] for i in index], dtype=np.float32)\n",
    "        states_prime_mb = np.array([self.buffer[i][3] for i in index], dtype=np.float32)\n",
    "        dones_mb = np.array([self.buffer[i][4] for i in index], dtype=np.bool_)\n",
    "\n",
    "\n",
    "        # Convert states and states_prime to tensors if they are to be used with TensorFlow\n",
    "        states_mb = tf.convert_to_tensor(states_mb, dtype=tf.float32)\n",
    "        states_prime_mb = tf.convert_to_tensor(states_prime_mb, dtype=tf.float32)\n",
    "        \n",
    "        return states_mb, actions_mb, rewards_mb, states_prime_mb, dones_mb"
   ]
  },
  {
   "cell_type": "markdown",
   "metadata": {},
   "source": [
    "Let's make a fake buffer and play around with it! We'll add the memory into our game play code to start collecting experiences."
   ]
  },
  {
   "cell_type": "code",
   "execution_count": 10,
   "metadata": {},
   "outputs": [],
   "source": [
    "test_memory_size = 20\n",
    "test_batch_size = 4\n",
    "test_gamma = .9  # Unused here. For learning.\n",
    "\n",
    "test_memory = Memory(test_memory_size, test_batch_size, test_gamma)"
   ]
  },
  {
   "cell_type": "code",
   "execution_count": 11,
   "metadata": {},
   "outputs": [
    {
     "name": "stdout",
     "output_type": "stream",
     "text": [
      "Step 1 - Cart X: -0.010284028016030788, Cart V: -0.23797422647476196, Pole A: -0.04299889877438545, Pole V:0.2758563756942749, Reward:1.0\n",
      "Step 2 - Cart X: -0.015043512918055058, Cart V: -0.04226602241396904, Pole A: -0.03748176991939545, Pole V:-0.03007236123085022, Reward:1.0\n",
      "Step 3 - Cart X: -0.01588883437216282, Cart V: -0.23683097958564758, Pole A: -0.03808321803808212, Pole V:0.2505530118942261, Reward:1.0\n",
      "Step 4 - Cart X: -0.02062545344233513, Cart V: -0.04118646681308746, Pole A: -0.03307215869426727, Pole V:-0.053894709795713425, Reward:1.0\n",
      "Step 5 - Cart X: -0.02144918218255043, Cart V: -0.2358189821243286, Pole A: -0.034150052815675735, Pole V:0.22817297279834747, Reward:1.0\n",
      "Step 6 - Cart X: -0.026165561750531197, Cart V: -0.04022606834769249, Pole A: -0.029586592689156532, Pole V:-0.07508350163698196, Reward:1.0\n",
      "Step 7 - Cart X: -0.02697008289396763, Cart V: -0.23491165041923523, Pole A: -0.031088262796401978, Pole V:0.20811986923217773, Reward:1.0\n",
      "Step 8 - Cart X: -0.03166831657290459, Cart V: -0.03935927152633667, Pole A: -0.026925865560770035, Pole V:-0.09420543164014816, Reward:1.0\n",
      "Step 9 - Cart X: -0.03245550021529198, Cart V: -0.23408515751361847, Pole A: -0.02880997397005558, Pole V:0.18986228108406067, Reward:1.0\n",
      "Step 10 - Cart X: -0.03713720664381981, Cart V: -0.03856314346194267, Pole A: -0.025012727826833725, Pole V:-0.11176799982786179, Reward:1.0\n",
      "Step 11 - Cart X: -0.03790846839547157, Cart V: -0.23331791162490845, Pole A: -0.027248088270425797, Pole V:0.17291980981826782, Reward:1.0\n",
      "Step 12 - Cart X: -0.04257482662796974, Cart V: -0.03781679645180702, Pole A: -0.023789692670106888, Pole V:-0.12823297083377838, Reward:1.0\n",
      "Step 13 - Cart X: -0.04333116114139557, Cart V: -0.23259001970291138, Pole A: -0.02635435201227665, Pole V:0.1568506807088852, Reward:1.0\n",
      "Step 14 - Cart X: -0.04798296093940735, Cart V: -0.037100840359926224, Pole A: -0.0232173390686512, Pole V:-0.14402852952480316, Reward:1.0\n",
      "Step 15 - Cart X: -0.048724979162216187, Cart V: -0.2318827360868454, Pole A: -0.02609790861606598, Pole V:0.14124026894569397, Reward:1.0\n",
      "Step 16 - Cart X: -0.053362634032964706, Cart V: -0.03639691695570946, Pole A: -0.023273102939128876, Pole V:-0.15956051647663116, Reward:1.0\n",
      "Step 17 - Cart X: -0.05409057065844536, Cart V: -0.23117807507514954, Pole A: -0.0264643132686615, Pole V:0.12569043040275574, Reward:1.0\n",
      "Step 18 - Cart X: -0.0587141327559948, Cart V: -0.03568718954920769, Pole A: -0.02395050600171089, Pole V:-0.17522281408309937, Reward:1.0\n",
      "Step 19 - Cart X: -0.05942787602543831, Cart V: -0.2304583340883255, Pole A: -0.027454961091279984, Pole V:0.10980932414531708, Reward:1.0\n",
      "Step 20 - Cart X: -0.06403704732656479, Cart V: -0.03495393693447113, Pole A: -0.025258775800466537, Pole V:-0.1914074867963791, Reward:1.0\n",
      "Step 21 - Cart X: -0.06473612040281296, Cart V: -0.2297056019306183, Pole A: -0.029086925089359283, Pole V:0.09320154041051865, Reward:1.0\n",
      "Step 22 - Cart X: -0.06933023780584335, Cart V: -0.03417908772826195, Pole A: -0.0272228941321373, Pole V:-0.2085145264863968, Reward:1.0\n",
      "Step 23 - Cart X: -0.07001381367444992, Cart V: -0.22890141606330872, Pole A: -0.03139318525791168, Pole V:0.07545819878578186, Reward:1.0\n",
      "Step 24 - Cart X: -0.07459184527397156, Cart V: -0.033343806862831116, Pole A: -0.02988402172923088, Pole V:-0.22696176171302795, Reward:1.0\n",
      "Step 25 - Cart X: -0.07525872439146042, Cart V: -0.22802621126174927, Pole A: -0.03442325443029404, Pole V:0.05614687129855156, Reward:1.0\n",
      "Step 26 - Cart X: -0.07981924712657928, Cart V: -0.03242803364992142, Pole A: -0.03330031782388687, Pole V:-0.2471950203180313, Reward:1.0\n",
      "Step 27 - Cart X: -0.08046780526638031, Cart V: -0.22705896198749542, Pole A: -0.03824421763420105, Pole V:0.034801021218299866, Reward:1.0\n",
      "Step 28 - Cart X: -0.08500898629426956, Cart V: -0.031410038471221924, Pole A: -0.03754819929599762, Pole V:-0.269698828458786, Reward:1.0\n",
      "Step 29 - Cart X: -0.08563718944787979, Cart V: -0.2259766012430191, Pole A: -0.04294217377901077, Pole V:0.010908732190728188, Reward:1.0\n",
      "Step 30 - Cart X: -0.09015671908855438, Cart V: -0.03026594966650009, Pole A: -0.04272400215268135, Pole V:-0.29500773549079895, Reward:1.0\n",
      "Step 31 - Cart X: -0.09076203405857086, Cart V: -0.22475358843803406, Pole A: -0.048624154180288315, Pole V:-0.01609952747821808, Reward:1.0\n",
      "Step 32 - Cart X: -0.09525711089372635, Cart V: -0.02896925061941147, Pole A: -0.04894614592194557, Pole V:-0.3237188160419464, Reward:1.0\n",
      "Step 33 - Cart X: -0.09583649039268494, Cart V: -0.2233613133430481, Pole A: -0.05542052164673805, Pole V:-0.0468643382191658, Reward:1.0\n",
      "Step 34 - Cart X: -0.10030371695756912, Cart V: -0.027490273118019104, Pole A: -0.05635780841112137, Pole V:-0.3565050959587097, Reward:1.0\n",
      "Step 35 - Cart X: -0.10085352510213852, Cart V: -0.22176755964756012, Pole A: -0.06348790973424911, Pole V:-0.08211227506399155, Reward:1.0\n",
      "Step 36 - Cart X: -0.10528887808322906, Cart V: -0.02579568326473236, Pole A: -0.06513015925884247, Pole V:-0.39413076639175415, Reward:1.0\n",
      "Step 37 - Cart X: -0.10580479353666306, Cart V: -0.21993590891361237, Pole A: -0.07301276922225952, Pole V:-0.12267260253429413, Reward:1.0\n",
      "Step 38 - Cart X: -0.11020351201295853, Cart V: -0.023847980424761772, Pole A: -0.07546622306108475, Pole V:-0.4374675452709198, Reward:1.0\n",
      "Step 39 - Cart X: -0.1106804683804512, Cart V: -0.21782514452934265, Pole A: -0.08421557396650314, Pole V:-0.16949597001075745, Reward:1.0\n",
      "Step 40 - Cart X: -0.1150369718670845, Cart V: -0.021605059504508972, Pole A: -0.08760549128055573, Pole V:-0.48751309514045715, Reward:1.0\n",
      "Step 41 - Cart X: -0.1154690757393837, Cart V: -0.21538877487182617, Pole A: -0.09735575318336487, Pole V:-0.22367531061172485, Reward:1.0\n",
      "Step 42 - Cart X: -0.11977684497833252, Cart V: -0.01901991292834282, Pole A: -0.10182926058769226, Pole V:-0.545411229133606, Reward:1.0\n",
      "Step 43 - Cart X: -0.12015724927186966, Cart V: -0.21257470548152924, Pole A: -0.11273748427629471, Pole V:-0.286469042301178, Reward:1.0\n",
      "Step 44 - Cart X: -0.12440873682498932, Cart V: -0.016040612012147903, Pole A: -0.11846686899662018, Pole V:-0.6124734282493591, Reward:1.0\n",
      "Step 45 - Cart X: -0.12472955137491226, Cart V: -0.20932511985301971, Pole A: -0.13071633875370026, Pole V:-0.3593266010284424, Reward:1.0\n",
      "Step 46 - Cart X: -0.12891605496406555, Cart V: -0.012610753066837788, Pole A: -0.1379028707742691, Pole V:-0.6902020573616028, Reward:1.0\n",
      "Step 47 - Cart X: -0.12916827201843262, Cart V: -0.2055770307779312, Pole A: -0.15170690417289734, Pole V:-0.44391563534736633, Reward:1.0\n",
      "Step 48 - Cart X: -0.13327981531620026, Cart V: -0.008670719340443611, Pole A: -0.1605852246284485, Pole V:-0.7803136706352234, Reward:1.0\n",
      "Step 49 - Cart X: -0.13345322012901306, Cart V: -0.20126372575759888, Pole A: -0.17619149386882782, Pole V:-0.5421504974365234, Reward:1.0\n",
      "Step 50 - Cart X: -0.13747850060462952, Cart V: -0.004160267300903797, Pole A: -0.1870345026254654, Pole V:-0.8847611546516418, Reward:1.0\n",
      "Step 51 - Cart X: -0.13756170868873596, Cart V: -0.1963178515434265, Pole A: -0.20472972095012665, Pole V:-0.6562197208404541, Reward:1.0\n",
      "Step 52 - Cart X: -0.14148806035518646, Cart V: 0.0009767787996679544, Pole A: -0.21785412728786469, Pole V:-1.0057522058486938, Reward:1.0\n",
      "Game over! Score = 52.0\n"
     ]
    }
   ],
   "source": [
    "actions = [x % 2 for x in range(200)]\n",
    "state = env.reset()[0]\n",
    "step = 0\n",
    "episode_reward = 0\n",
    "done = False\n",
    "\n",
    "while not done and step < len(actions):\n",
    "    action = actions[step]  # In the future, our agents will define this.\n",
    "    state_prime, reward, done, info, _ = env.step(action)\n",
    "    episode_reward += reward\n",
    "    test_memory.add((state, action, reward, state_prime, done)) # New line here\n",
    "    step += 1\n",
    "    state = state_prime\n",
    "    print_state(state, step, reward)\n",
    "\n",
    "end_statement = \"Game over!\" if done else \"Ran out of actions!\"\n",
    "print(end_statement, \"Score =\", episode_reward)"
   ]
  },
  {
   "cell_type": "markdown",
   "metadata": {},
   "source": [
    "Now, let's sample the memory by running the cell below multiple times. It's different each call, and that's on purpose. Just like with other neural networks, it's important to randomly sample so that our agent can learn from many different situations.\n",
    "\n",
    "The use of a memory buffer is called [Experience Replay](https://arxiv.org/pdf/1511.05952.pdf). The above technique of a uniform random sample is a quick and computationally efficient way to get the job done, but RL researchers often look into other sampling methods. For instance, maybe there's a way to weight memories based on their rarity or loss when the agent learns with it."
   ]
  },
  {
   "cell_type": "code",
   "execution_count": 12,
   "metadata": {},
   "outputs": [
    {
     "data": {
      "text/plain": [
       "(<tf.Tensor: shape=(4, 4), dtype=float32, numpy=\n",
       " array([[-0.09583649, -0.22336131, -0.05542052, -0.04686434],\n",
       "        [-0.12916827, -0.20557703, -0.1517069 , -0.44391564],\n",
       "        [-0.12440874, -0.01604061, -0.11846687, -0.6124734 ],\n",
       "        [-0.12891605, -0.01261075, -0.13790287, -0.69020206]],\n",
       "       dtype=float32)>,\n",
       " array([1, 1, 0, 0], dtype=int8),\n",
       " array([1., 1., 1., 1.], dtype=float32),\n",
       " <tf.Tensor: shape=(4, 4), dtype=float32, numpy=\n",
       " array([[-0.10030372, -0.02749027, -0.05635781, -0.3565051 ],\n",
       "        [-0.13327982, -0.00867072, -0.16058522, -0.7803137 ],\n",
       "        [-0.12472955, -0.20932512, -0.13071634, -0.3593266 ],\n",
       "        [-0.12916827, -0.20557703, -0.1517069 , -0.44391564]],\n",
       "       dtype=float32)>,\n",
       " array([False, False, False, False]))"
      ]
     },
     "execution_count": 12,
     "metadata": {},
     "output_type": "execute_result"
    }
   ],
   "source": [
    "test_memory.sample()"
   ]
  },
  {
   "cell_type": "markdown",
   "metadata": {},
   "source": [
    "But before the agent has any memories and has learned anything, how is it supposed to act? That comes down to [Exploration vs Exploitation](https://en.wikipedia.org/wiki/Multi-armed_bandit). The trouble is that in order to learn, risks with the unknown need to be made. There's no right answer, but there is a popular answer. We'll start by acting randomly, and over time, we will slowly decay our chance to act randomly.\n",
    "\n",
    "Below is a partial version of the agent. "
   ]
  },
  {
   "cell_type": "code",
   "execution_count": 13,
   "metadata": {},
   "outputs": [],
   "source": [
    "class Partial_Agent():\n",
    "    \"\"\"Sets up a reinforcement learning agent to play in a game environment.\"\"\"\n",
    "    def __init__(self, network, memory, epsilon_decay, action_size):\n",
    "        \"\"\"Initializes the agent with DQN and memory sub-classes.\n",
    "\n",
    "        Args:\n",
    "            network: A neural network created from deep_q_network().\n",
    "            memory: A Memory class object.\n",
    "            epsilon_decay (float): The rate at which to decay random actions.\n",
    "            action_size (int): The number of possible actions to take.\n",
    "        \"\"\"\n",
    "        self.network = network\n",
    "        self.action_size = action_size\n",
    "        self.memory = memory\n",
    "        self.epsilon = 1  # The chance to take a random action.\n",
    "        self.epsilon_decay = epsilon_decay\n",
    "\n",
    "    def act(self, state, training=False):\n",
    "        \"\"\"Selects an action for the agent to take given a game state.\n",
    "\n",
    "        Args:\n",
    "            state (list of numbers): The state of the environment to act on.\n",
    "            traning (bool): True if the agent is training.\n",
    "\n",
    "        Returns:\n",
    "            (int) The index of the action to take.\n",
    "        \"\"\"\n",
    "        if training:\n",
    "            # Random actions until enough simulations to train the model.\n",
    "            if len(self.memory.buffer) >= self.memory.batch_size:\n",
    "                self.epsilon *= self.epsilon_decay\n",
    "\n",
    "            if self.epsilon > np.random.rand():\n",
    "                print(\"Exploration!\")\n",
    "                return random.randint(0, self.action_size-1)\n",
    "\n",
    "        # If not acting randomly, take action with highest predicted value.\n",
    "        print(\"Exploitation!\")\n",
    "        state_batch = np.expand_dims(state, axis=0)\n",
    "        predict_mask = np.ones((1, self.action_size,))\n",
    "        action_qs = self.network.predict([state_batch, predict_mask])\n",
    "        return np.argmax(action_qs[0])"
   ]
  },
  {
   "cell_type": "markdown",
   "metadata": {},
   "source": [
    "Let's define the agent and get a starting state to see how it would act without any training."
   ]
  },
  {
   "cell_type": "code",
   "execution_count": 14,
   "metadata": {},
   "outputs": [],
   "source": [
    "state = env.reset()[0]\n",
    "\n",
    "# Define \"brain\"\n",
    "space_shape = env.observation_space.shape\n",
    "action_size = env.action_space.n\n",
    "\n",
    "# Feel free to play with these\n",
    "test_learning_rate = .2\n",
    "test_hidden_neurons = 10\n",
    "test_epsilon_decay = .95\n",
    "\n",
    "test_network = deep_q_network(\n",
    "    space_shape, action_size, test_learning_rate, test_hidden_neurons)\n",
    "\n",
    "test_agent = Partial_Agent(\n",
    "    test_network, test_memory, test_epsilon_decay, action_size)"
   ]
  },
  {
   "cell_type": "markdown",
   "metadata": {},
   "source": [
    "Run the cell below multiple times. Since we're decaying the random action rate after every action, it's only a matter a time before the agent exploits more than it explores."
   ]
  },
  {
   "cell_type": "code",
   "execution_count": 15,
   "metadata": {},
   "outputs": [
    {
     "name": "stdout",
     "output_type": "stream",
     "text": [
      "Exploration!\n",
      "Push Right\n"
     ]
    }
   ],
   "source": [
    "action = test_agent.act(state, training=True)\n",
    "print(\"Push Right\" if action else \"Push Left\")"
   ]
  },
  {
   "cell_type": "markdown",
   "metadata": {},
   "source": [
    "Memories, a brain, and a healthy dose of curiosity. We finally have all the ingredient for our agent to learn. After all, as the Scarecrow from the Wizard of Oz said:\n",
    "\n",
    "\"Everything in life is unusual until you get accustomed to it.\"  \n",
    "~L. Frank Baum\n",
    "\n",
    "Below is the code used by our agent to learn, where the Bellman Equation at last makes an appearance. We'll run through the following steps.\n",
    "\n",
    "1. Pull a batch from memory\n",
    "2. Get the Q value (the output of the neural network) based on the memory's ending state\n",
    "    - Assume the Q value of the action with the highest Q value (test all actions)\n",
    "4. Update these Q values with the Bellman Equation\n",
    "    - `target_qs = (next_q_mb * self.memory.gamma) + reward_mb`\n",
    "    - If the state is the end of the game, set the target_q to the reward for entering the final state.\n",
    "5. Reshape the target_qs to match the networks output\n",
    "    - Only learn on the memory's corresponding action by setting all action nodes to zero besides the action node taken.\n",
    "6. Fit Target Qs as the label to our model against the memory's starting state and action as the inputs."
   ]
  },
  {
   "cell_type": "code",
   "execution_count": 16,
   "metadata": {},
   "outputs": [],
   "source": [
    "def learn(self):\n",
    "    \"\"\"Trains the Deep Q Network based on stored experiences.\"\"\"\n",
    "    batch_size = self.memory.batch_size\n",
    "    if len(self.memory.buffer) < batch_size:\n",
    "        return None\n",
    "\n",
    "    # Obtain random mini-batch from memory.\n",
    "    state_mb, action_mb, reward_mb, next_state_mb, done_mb = (\n",
    "        self.memory.sample())\n",
    "\n",
    "    # Get Q values for next_state.\n",
    "    predict_mask = np.ones(action_mb.shape + (self.action_size,))\n",
    "    next_q_mb = self.network.predict([next_state_mb, predict_mask])\n",
    "    next_q_mb = tf.math.reduce_max(next_q_mb, axis=1)\n",
    "\n",
    "    # Apply the Bellman Equation\n",
    "    target_qs = (next_q_mb * self.memory.gamma) + reward_mb\n",
    "    target_qs = tf.where(done_mb, reward_mb, target_qs)\n",
    "\n",
    "    # Match training batch to network output:\n",
    "    # target_q where action taken, 0 otherwise.\n",
    "    action_mb = tf.convert_to_tensor(action_mb, dtype=tf.int32)\n",
    "    action_hot = tf.one_hot(action_mb, self.action_size)\n",
    "    target_mask = tf.multiply(tf.expand_dims(target_qs, -1), action_hot)\n",
    "\n",
    "    return self.network.train_on_batch(\n",
    "        [state_mb, action_hot], target_mask, reset_metrics=False\n",
    "    )\n",
    "\n",
    "Partial_Agent.learn = learn\n",
    "test_agent = Partial_Agent(\n",
    "    test_network, test_memory, test_epsilon_decay, action_size)"
   ]
  },
  {
   "cell_type": "markdown",
   "metadata": {},
   "source": [
    "Nice! We finally have an intelligence that can walk and talk and... well ok, this intelligence is too simple to be able to do those things, but maybe it can learn to push a cart with a pole on it. Let's update our training loop to use our new agent.\n",
    "\n",
    "Run the below cell over and over up to ten times to train the agent."
   ]
  },
  {
   "cell_type": "code",
   "execution_count": 17,
   "metadata": {},
   "outputs": [
    {
     "name": "stdout",
     "output_type": "stream",
     "text": [
      "Exploration!\n",
      "Step 1 - Cart X: 0.0042745270766317844, Cart V: 0.24516630172729492, Pole A: -0.044372640550136566, Pole V:-0.3282676935195923, Reward:1.0\n",
      "Exploration!\n",
      "Step 2 - Cart X: 0.009177853353321552, Cart V: 0.05070321261882782, Pole A: -0.050937991589307785, Pole V:-0.049901463091373444, Reward:1.0\n",
      "Exploration!\n",
      "Step 3 - Cart X: 0.010191917419433594, Cart V: 0.246517151594162, Pole A: -0.05193602293729782, Pole V:-0.3582107126712799, Reward:1.0\n",
      "Exploration!\n",
      "Step 4 - Cart X: 0.015122259967029095, Cart V: 0.4423374831676483, Pole A: -0.05910023674368858, Pole V:-0.6668074727058411, Reward:1.0\n",
      "Exploration!\n",
      "Step 5 - Cart X: 0.023969009518623352, Cart V: 0.2480851262807846, Pole A: -0.0724363848567009, Pole V:-0.3933030068874359, Reward:1.0\n",
      "Exploration!\n",
      "Step 6 - Cart X: 0.02893071249127388, Cart V: 0.054061826318502426, Pole A: -0.08030244708061218, Pole V:-0.12430892884731293, Reward:1.0\n",
      "Exploitation!\n",
      "1/1 [==============================] - 0s 39ms/step\n",
      "Step 7 - Cart X: 0.030011950060725212, Cart V: 0.2502368986606598, Pole A: -0.0827886238694191, Pole V:-0.44120684266090393, Reward:1.0\n",
      "Exploitation!\n"
     ]
    },
    {
     "name": "stderr",
     "output_type": "stream",
     "text": [
      "2024-03-21 17:44:31.620049: W tensorflow/tsl/platform/profile_utils/cpu_utils.cc:128] Failed to get CPU frequency: 0 Hz\n"
     ]
    },
    {
     "name": "stdout",
     "output_type": "stream",
     "text": [
      "1/1 [==============================] - 0s 9ms/step\n",
      "Step 8 - Cart X: 0.03501668572425842, Cart V: 0.4464268982410431, Pole A: -0.09161276370286942, Pole V:-0.7587959170341492, Reward:1.0\n",
      "Exploitation!\n",
      "1/1 [==============================] - 0s 9ms/step\n",
      "Step 9 - Cart X: 0.043945226818323135, Cart V: 0.6426838040351868, Pole A: -0.10678867995738983, Pole V:-1.0788432359695435, Reward:1.0\n",
      "Exploitation!\n",
      "1/1 [==============================] - 0s 9ms/step\n",
      "Step 10 - Cart X: 0.05679890140891075, Cart V: 0.8390413522720337, Pole A: -0.12836554646492004, Pole V:-1.4030380249023438, Reward:1.0\n",
      "Exploration!\n",
      "Step 11 - Cart X: 0.07357972860336304, Cart V: 0.6457261443138123, Pole A: -0.1564263105392456, Pole V:-1.1530869007110596, Reward:1.0\n",
      "Exploitation!\n",
      "1/1 [==============================] - 0s 9ms/step\n",
      "Step 12 - Cart X: 0.08649425208568573, Cart V: 0.842503547668457, Pole A: -0.17948804795742035, Pole V:-1.4904510974884033, Reward:1.0\n",
      "Exploitation!\n",
      "1/1 [==============================] - 0s 12ms/step\n",
      "Step 13 - Cart X: 0.10334432125091553, Cart V: 1.0392987728118896, Pole A: -0.2092970609664917, Pole V:-1.8333884477615356, Reward:1.0\n",
      "Exploitation!\n",
      "1/1 [==============================] - 0s 10ms/step\n",
      "Step 14 - Cart X: 0.12413030117750168, Cart V: 1.2360327243804932, Pole A: -0.24596484005451202, Pole V:-2.1831345558166504, Reward:1.0\n",
      "1/1 [==============================] - 0s 10ms/step\n",
      "0.5004333853721619\n",
      "Game over! Score = 14.0\n"
     ]
    }
   ],
   "source": [
    "state = env.reset()[0]\n",
    "step = 0\n",
    "episode_reward = 0\n",
    "done = False\n",
    "\n",
    "while not done:\n",
    "    action = test_agent.act(state, training=True)\n",
    "    state_prime, reward, done, info, _ = env.step(action)\n",
    "    episode_reward += reward\n",
    "    test_agent.memory.add((state, action, reward, state_prime, done)) # New line here\n",
    "    step += 1\n",
    "    state = state_prime\n",
    "    print_state(state, step, reward)\n",
    "\n",
    "print(test_agent.learn())\n",
    "print(\"Game over! Score =\", episode_reward)"
   ]
  },
  {
   "cell_type": "markdown",
   "metadata": {},
   "source": [
    "## Hypertuning\n",
    "\n",
    "Chances are, at this point, the agent is having a tough time learning. Why is that? Well, remember that hyperparameter tuning job we kicked off at the start of this notebook?\n",
    "\n",
    "The are many parameters that need adjusting with our agent. Let's recap:\n",
    "* The number of `episodes` or full runs of the game to train on\n",
    "* The neural networks `learning_rate`\n",
    "* The number of `hidden_neurons` to use in our network\n",
    "* `gamma`, or how much we want to discount the future value of states\n",
    "* How quickly we want to switch from explore to exploit with `explore_decay`\n",
    "* The size of the memory buffer, `memory_size`\n",
    "* The number of memories to pull from the buffer when training, `memory_batch_size`\n",
    "\n",
    "These all have been added as flags to pass to the model in `trainer/trainer.py`'s `_parse_arguments` method. For the most part, `trainer/trainer.py` follows the structure of the training loop that we have above, but it does have a few extra bells and whistles, like a hook into TensorBoard and video output."
   ]
  },
  {
   "cell_type": "code",
   "execution_count": 18,
   "metadata": {},
   "outputs": [],
   "source": [
    "def _parse_arguments(argv):\n",
    "    \"\"\"Parses command-line arguments.\"\"\"\n",
    "    parser = argparse.ArgumentParser()\n",
    "    parser.add_argument(\n",
    "        '--game',\n",
    "        help='Which open ai gym game to play',\n",
    "        type=str,\n",
    "        default='CartPole-v0')\n",
    "    parser.add_argument(\n",
    "        '--episodes',\n",
    "        help='The number of episodes to simulate',\n",
    "        type=int,\n",
    "        default=200)\n",
    "    parser.add_argument(\n",
    "        '--learning_rate',\n",
    "        help='Learning rate for the nueral network',\n",
    "        type=float,\n",
    "        default=0.2)\n",
    "    parser.add_argument(\n",
    "        '--hidden_neurons',\n",
    "        help='The number of nuerons to use per layer',\n",
    "        type=int,\n",
    "        default=30)\n",
    "    parser.add_argument(\n",
    "        '--gamma',\n",
    "        help='The gamma or \"discount\" factor to discount future states',\n",
    "        type=float,\n",
    "        default=0.5)\n",
    "    parser.add_argument(\n",
    "        '--explore_decay',\n",
    "        help='The rate at which to decay the probability of a random action',\n",
    "        type=float,\n",
    "        default=0.1)\n",
    "    parser.add_argument(\n",
    "        '--memory_size',\n",
    "        help='Size of the memory buffer',\n",
    "        type=int,\n",
    "        default=100000)\n",
    "    parser.add_argument(\n",
    "        '--memory_batch_size',\n",
    "        help='The amount of memories to sample from the buffer while training',\n",
    "        type=int,\n",
    "        default=8)\n",
    "    parser.add_argument(\n",
    "        '--job-dir',\n",
    "        help='Directory where to save the given model',\n",
    "        type=str,\n",
    "        default='models/')\n",
    "    parser.add_argument(\n",
    "        '--print_rate',\n",
    "        help='How often to print the score, 0 if never',\n",
    "        type=int,\n",
    "        default=0)\n",
    "    parser.add_argument(\n",
    "        '--eval_rate',\n",
    "        help=\"\"\"While training, perform an on-policy simulation and record\n",
    "        metrics to tensorboard every <record_rate> steps, 0 if never. Use\n",
    "        higher values to avoid hyperparameter tuning \"too many metrics\"\n",
    "        error\"\"\",\n",
    "        type=int,\n",
    "        default=20)\n",
    "    return parser.parse_known_args(argv)"
   ]
  },
  {
   "cell_type": "markdown",
   "metadata": {},
   "source": [
    "Geez, that's a lot. And like with other machine learning methods, there's no hard and fast rule and is problem dependent. Plus, there are many more paramaters we could explore, like the number of layers, learning rate decay, and so on.\n",
    "\n",
    "We can tell Google Cloud how to explore the hyperparameter tuning space with a [config file](https://cloud.google.com/ml-engine/reference/rest/v1/projects.jobs#HyperparameterSpec). The `hyperparam.yaml` file in this directory is exactly that. It specifies which parameter to tune on (in this case, the `episode_reward`) and the range for the different flags we want to tune on.\n",
    "\n",
    "In our code, we'll add the following\n",
    "\n",
    "`import hypertune  #From cloudml-hypertune library`\n",
    "\n",
    "`hpt = hypertune.HyperTune()  # Initialized before looping through episodes`\n",
    "\n",
    "`# Placed right before the end of the training loop\n",
    "hpt.report_hyperparameter_tuning_metric(\n",
    "    hyperparameter_metric_tag='episode_reward',\n",
    "    metric_value=reward,\n",
    "    global_step=episode)`\n",
    "  \n",
    "This way, at the end of every episode, we can send information to the tuning service on how the agent is doing. The service can only handle so much information being thrown at it at once, so we'll add a `eval_rate` flag to throttle information to every `eval_rate` episodes.\n",
    "\n",
    "It is definately a worthwhile exercise to try and find the optimal set of parameters on one's on, but if life is too short, and there isn't time for that, the hyperparameter tuning job should now be complete. Head on over to [Google Cloud's AI Platform](https://console.cloud.google.com/ai-platform/jobs) to see the job labeled `dqn_on_gcp_<time_this_lab_was_started>`\n",
    "\n",
    "Click on the job name to see the results. Information comes in as each trial is complete, and the best performing trial will be listed on the top.\n",
    "\n",
    "<img src=\"images/hypertune_trials.jpg\" width=\"966\" height=\"464\">"
   ]
  },
  {
   "cell_type": "markdown",
   "metadata": {},
   "source": [
    "Logs can be invaluable when debugging. Click the three dots to the right of one of the trials to filter logs by that particular trial.\n",
    "\n",
    "At last, let's see the results of the best trial. Keep in mind the best trial number and navigate over to [your bucket](https://console.cloud.google.com/storage/browser). The results will be in a file with the same Job Name as your hyperparameter tuning job. In that folder, there will be a number of subfolders equal to the number of hyperparameter tuning trials. Select the folder with your best performing `Trial Id`\n",
    "\n",
    "<img src=\"images/best_trial.jpg\" width=\"956\" height=\"456\">\n",
    "\n",
    "There should be a number of goodies in the file including TensorBoard information in `/train`, a saved model in `saved_model.pb`, and a recording of the model in `recording.mp4`.\n",
    "\n",
    "Open the [Google Cloud Shell](https://console.cloud.google.com/home/dashboard?cloudshell=true&_ga=2.207467987.-157492093.1570741979) and run Tensorboard with\n",
    "\n",
    "`tensorboard --logdir=gs://<your-bucket>/<job-name>/<path-best-trial>`\n",
    "\n",
    "The episode rewards and training loss are displayed for the trial in intervals of 20 episodes.\n",
    "\n",
    "<img src=\"images/tensorboard.jpg\" width=\"910\" height=\"708\">\n",
    "\n",
    "Click `recording.mp4` in your bucket to visually see how the model performed! How did it do? If you're not proud of your little robot, check out the recordings of the other trials to see how it decimates the competition.\n",
    "\n",
    "Congratulations on making a Deep Q Agent! That's it for now, but this is just scratching the surface for Reinforcement Learning. AI Gym has plenty of other [environments](https://gym.openai.com/envs/#classic_control), see if you can conquer them with your new skills!"
   ]
  },
  {
   "cell_type": "markdown",
   "metadata": {},
   "source": [
    "Copyright 2021 Google Inc.\n",
    "Licensed under the Apache License, Version 2.0 (the \"License\"); you may not use this file except in compliance with the License. You may obtain a copy of the License at\n",
    "http://www.apache.org/licenses/LICENSE-2.0\n",
    "Unless required by applicable law or agreed to in writing, software distributed under the License is distributed on an \"AS IS\" BASIS, WITHOUT WARRANTIES OR CONDITIONS OF ANY KIND, either express or implied. See the License for the specific language governing permissions and limitations under the License."
   ]
  },
  {
   "cell_type": "code",
   "execution_count": null,
   "metadata": {},
   "outputs": [],
   "source": []
  }
 ],
 "metadata": {
  "kernelspec": {
   "display_name": "Python 3",
   "language": "python",
   "name": "python3"
  },
  "language_info": {
   "codemirror_mode": {
    "name": "ipython",
    "version": 3
   },
   "file_extension": ".py",
   "mimetype": "text/x-python",
   "name": "python",
   "nbconvert_exporter": "python",
   "pygments_lexer": "ipython3",
   "version": "3.9.18"
  }
 },
 "nbformat": 4,
 "nbformat_minor": 4
}
